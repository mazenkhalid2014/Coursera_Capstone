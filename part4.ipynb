{
 "cells": [
  {
   "cell_type": "markdown",
   "id": "36f9aeb7",
   "metadata": {},
   "source": [
    "## Coursera Capstone - REPORT CONTENT\n",
    "1-Introduction Section : ⁃ Discussion of the business problem and the interested audience in this project.\\\n",
    "2-Data Section:\n",
    "⁃ Description of the data that will be used to solve the problem and the sources.\\\n",
    "3-Methodology section ⁃ Discussion and description of exploratory data analysis carried out, any inferential statistical testing performed, and if any machine learnings were used establishing the strategy and purposes.\\\n",
    "4-Results section ⁃ Discussion of the results.\\\n",
    "5-Discussion section ⁃ Elaboration and discussion on any observations noted and any recommendations suggested based on the results.\\\n",
    "6-Conclusion section ⁃ Report Conclusion."
   ]
  },
  {
   "cell_type": "markdown",
   "id": "ffe7d1b3",
   "metadata": {},
   "source": [
    "## Introduction Section :\n",
    "the problem that I will solve the get the best  location open a restaurant\n"
   ]
  },
  {
   "cell_type": "markdown",
   "id": "a86692c0",
   "metadata": {},
   "source": [
    "## Data Section\n",
    " the dataset from foursquare API  the location open a restaurant,and  analyisis in maadi,cairo,egypt from services \n",
    "  \n",
    " "
   ]
  },
  {
   "cell_type": "markdown",
   "id": "3790e0f5",
   "metadata": {},
   "source": [
    "## Methodology section \n",
    "connect to api and get data then clean data analyisis "
   ]
  },
  {
   "cell_type": "markdown",
   "id": "b88eac8f",
   "metadata": {},
   "source": [
    "## Results section "
   ]
  },
  {
   "cell_type": "code",
   "execution_count": null,
   "id": "26982714",
   "metadata": {},
   "outputs": [],
   "source": []
  },
  {
   "cell_type": "markdown",
   "id": "953894b5",
   "metadata": {},
   "source": [
    "## Discussion section "
   ]
  },
  {
   "cell_type": "code",
   "execution_count": null,
   "id": "033ce3c5",
   "metadata": {},
   "outputs": [],
   "source": []
  },
  {
   "cell_type": "markdown",
   "id": "95ba803c",
   "metadata": {},
   "source": [
    "## Conclusion section"
   ]
  },
  {
   "cell_type": "code",
   "execution_count": null,
   "id": "5b25a707",
   "metadata": {},
   "outputs": [],
   "source": []
  }
 ],
 "metadata": {
  "kernelspec": {
   "display_name": "Python 3",
   "language": "python",
   "name": "python3"
  },
  "language_info": {
   "codemirror_mode": {
    "name": "ipython",
    "version": 3
   },
   "file_extension": ".py",
   "mimetype": "text/x-python",
   "name": "python",
   "nbconvert_exporter": "python",
   "pygments_lexer": "ipython3",
   "version": "3.8.8"
  }
 },
 "nbformat": 4,
 "nbformat_minor": 5
}
